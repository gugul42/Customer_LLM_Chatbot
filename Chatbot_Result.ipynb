{
 "cells": [
  {
   "cell_type": "code",
   "execution_count": 23,
   "id": "807d6b7f",
   "metadata": {
    "ExecuteTime": {
     "end_time": "2024-02-14T08:40:12.168141Z",
     "start_time": "2024-02-14T08:40:12.136749Z"
    },
    "hide_input": false,
    "scrolled": false
   },
   "outputs": [
    {
     "data": {
      "application/vnd.jupyter.widget-view+json": {
       "model_id": "c6fee793314e4160af32af09a1ab8292",
       "version_major": 2,
       "version_minor": 0
      },
      "text/plain": [
       "HBox(children=(Text(value='', placeholder='어떤 문의사항이 있으신가요?'), Button(description='⬆️', layout=Layout(height='3…"
      ]
     },
     "metadata": {},
     "output_type": "display_data"
    },
    {
     "name": "stdout",
     "output_type": "stream",
     "text": [
      "* 음성으로 원하시는 분은 오른쪽 마이크를 클릭해주세요\n",
      "\n",
      "🖥️ 셀러 크레딧봇 : 일반 상담 모드입니다.\n",
      "\n",
      "답변 생성중....\n",
      "\n",
      "질문 :  자사몰 연동이 가능한가요?\n",
      "답변 :  고객님께서는 자사몰 연동에 대해 물어보셨군요. 현재로서는 자사몰의 연동은 불가능합니다. 추가 몰 등록까지 기다려주시면 감사하겠습니다. 추가로 궁금하신 사항이 있으시면 언제든지 물어보세요.\n",
      "\n",
      "\n"
     ]
    }
   ],
   "source": [
    "# 라이브러리\n",
    "from chabot_execute import *\n",
    "from loan_compare import *\n",
    "from openai import OpenAI\n",
    "import io\n",
    "import warnings\n",
    "warnings.filterwarnings('ignore')\n",
    "from openai import OpenAI\n",
    "from ipywidgets import widgets, HBox, VBox, Button, Layout, FileUpload, Output, GridspecLayout\n",
    "from IPython.display import Audio, display, Javascript, clear_output\n",
    "\n",
    "def record_start(b):\n",
    "    # 녹음 및 답변 생성\n",
    "    api_key = '' # Open API \n",
    "    client = OpenAI(api_key = api_key)\n",
    "    execute_callbot(client)\n",
    "\n",
    "     # 오디오 출력 경로 설정\n",
    "    AUDIO_OUTPUT = \"./audio/result.mp3\"\n",
    "    audio = Audio(AUDIO_OUTPUT)\n",
    "    display(audio)  \n",
    "\n",
    "def upload_and_convert_to_df():\n",
    "    result_loan_compare()  # 데이터프레임 출력 또는 다른 처리\n",
    "\n",
    "    def open_link(b):\n",
    "        display(Javascript('window.open(\"https://www.sellercredit.co.kr/joinmember\", \"_blank\");'))\n",
    "\n",
    "    print('\\n* 셀러들을 위한 대출, 셀러 크레딧 커넥트에서 대출을 진행해보시겠습니까?')\n",
    "    button_y = Button(description='Yes', button_style = 'primary')\n",
    "    button_n = Button(description='No', button_style = '')\n",
    "    button_y.on_click(open_link)\n",
    "    buttons_layout = HBox([button_y, button_n])\n",
    "    display(buttons_layout)\n",
    "    \n",
    "def make_button():\n",
    "    layout = widgets.Layout(width='40px', height='30px')\n",
    "\n",
    "    # 텍스트 입력 위젯 생성\n",
    "    text_input = widgets.Text(\n",
    "        placeholder='어떤 문의사항이 있으신가요?',\n",
    "        description='',\n",
    "        disabled=False\n",
    "    )\n",
    "    \n",
    "    def on_execute_button_clicked(b):    \n",
    "        # 사용자 입력 값 가져오기\n",
    "        user_input = text_input.value\n",
    "        \n",
    "        if ('종합 대출 상담' in user_input):\n",
    "            print('\\n🖥️ 셀러 크레딧봇 : 현재 셀러님 기준 대출 상품 비교 결과입니다.')\n",
    "            upload_and_convert_to_df()\n",
    "        elif ('일반 상담' in user_input):\n",
    "            print('\\n🖥️ 셀러 크레딧봇 : 일반 상담 모드입니다.')\n",
    "            print('\\n답변 생성중....\\n')\n",
    "            execute_chatbot(user_input)\n",
    "        elif ('금리' in user_input)|('한도' in user_input)|('대출' in user_input):\n",
    "            print('\\n🖥️ 셀러 크레딧봇 : 대출 상담 모드입니다. 궁금하신 내용을 말씀해주세요. 일반 상담을 원하실 경우 일반 상담이라고 입력해주세요.\\n(종합 대출 상담이라고 입력 시 전체 결과를 요약해드립니다.)')\n",
    "            print('\\n답변 생성중....\\n')\n",
    "            execute_loanbot(user_input)\n",
    "        else:\n",
    "            print('\\n🖥️ 셀러 크레딧봇 : 일반 상담 모드입니다.')\n",
    "            print('\\n답변 생성중....\\n')\n",
    "            execute_chatbot(user_input)\n",
    "        \n",
    "        \n",
    "\n",
    "    # 실행 버튼 생성\n",
    "    execute_button = Button(description=\"⬆️\", layout=layout)\n",
    "    button_record = Button(description='🎧', layout = layout)\n",
    "\n",
    "    execute_button.on_click(on_execute_button_clicked)\n",
    "    button_record.on_click(record_start)\n",
    "\n",
    "    # 위젯 표시\n",
    "    display(HBox([text_input, execute_button,button_record]))\n",
    "    print('* 음성으로 원하시는 분은 오른쪽 마이크를 클릭해주세요')\n",
    "    \n",
    "    \n",
    "make_button()"
   ]
  }
 ],
 "metadata": {
  "hide_input": true,
  "kernelspec": {
   "display_name": "myenv",
   "language": "python",
   "name": "myenv"
  },
  "language_info": {
   "codemirror_mode": {
    "name": "ipython",
    "version": 3
   },
   "file_extension": ".py",
   "mimetype": "text/x-python",
   "name": "python",
   "nbconvert_exporter": "python",
   "pygments_lexer": "ipython3",
   "version": "3.9.12"
  },
  "toc": {
   "base_numbering": 1,
   "nav_menu": {},
   "number_sections": true,
   "sideBar": true,
   "skip_h1_title": false,
   "title_cell": "Table of Contents",
   "title_sidebar": "Contents",
   "toc_cell": false,
   "toc_position": {},
   "toc_section_display": true,
   "toc_window_display": false
  },
  "varInspector": {
   "cols": {
    "lenName": 16,
    "lenType": 16,
    "lenVar": 40
   },
   "kernels_config": {
    "python": {
     "delete_cmd_postfix": "",
     "delete_cmd_prefix": "del ",
     "library": "var_list.py",
     "varRefreshCmd": "print(var_dic_list())"
    },
    "r": {
     "delete_cmd_postfix": ") ",
     "delete_cmd_prefix": "rm(",
     "library": "var_list.r",
     "varRefreshCmd": "cat(var_dic_list()) "
    }
   },
   "types_to_exclude": [
    "module",
    "function",
    "builtin_function_or_method",
    "instance",
    "_Feature"
   ],
   "window_display": false
  }
 },
 "nbformat": 4,
 "nbformat_minor": 5
}
