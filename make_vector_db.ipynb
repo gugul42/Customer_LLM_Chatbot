{
 "cells": [
  {
   "cell_type": "code",
   "execution_count": 4,
   "id": "d876185c",
   "metadata": {
    "ExecuteTime": {
     "end_time": "2024-02-07T05:33:56.129539Z",
     "start_time": "2024-02-07T05:33:49.338887Z"
    }
   },
   "outputs": [],
   "source": [
    "# 라이브러리 로드\n",
    "import numpy as np\n",
    "import pandas as pd\n",
    "import urllib.request\n",
    "from tqdm import tqdm\n",
    "import torch\n",
    "import pickle\n",
    "import json\n",
    "import os\n",
    "\n",
    "# 관련 함수 호출\n",
    "from customer_chatbot import *"
   ]
  },
  {
   "cell_type": "code",
   "execution_count": 5,
   "id": "fd74a50a",
   "metadata": {
    "ExecuteTime": {
     "end_time": "2024-02-07T05:34:03.355618Z",
     "start_time": "2024-02-07T05:33:57.949186Z"
    }
   },
   "outputs": [
    {
     "name": "stdout",
     "output_type": "stream",
     "text": [
      "DB Complete\n"
     ]
    }
   ],
   "source": [
    "from sentence_transformers import SentenceTransformer\n",
    "from annoy import AnnoyIndex\n",
    "\n",
    "## 1. 탬플릿 데이터 로드\n",
    "template = pd.read_excel('./chatbot_template.xlsx')\n",
    "# 1) 템플릿 Dict 형태로 변환\n",
    "metadata = []\n",
    "for _, row in template.iterrows():\n",
    "    # 질문, 답변, 검색베이스(키워드)로 나눠 저장\n",
    "    temp = {'question':row['질문 형태'],\n",
    "            'answer':row['답변'] ,\n",
    "            'keyword':row['검색베이스']\n",
    "            }\n",
    "    metadata.append(temp)\n",
    "\n",
    "\n",
    "## 2. Embedding Model Load\n",
    "# 1) from HuggingFace\n",
    "model_dir = 'snunlp/KR-SBERT-V40K-klueNLI-augSTS'\n",
    "model_sbert = SentenceTransformer(model_dir, device='cpu')\n",
    "# 2) from Local\n",
    "# model_dir = \"./KR-SBERT-V40K-klueNLI-augSTS\"\n",
    "# model_sbert = SentenceTransformer(model_dir, device='cpu')\n",
    "\n",
    "## 3. Make and Save DB(from customer_chatbot.py)\n",
    "make_vector_db(metadata, model_sbert)"
   ]
  }
 ],
 "metadata": {
  "hide_input": false,
  "kernelspec": {
   "display_name": "myenv",
   "language": "python",
   "name": "myenv"
  },
  "language_info": {
   "codemirror_mode": {
    "name": "ipython",
    "version": 3
   },
   "file_extension": ".py",
   "mimetype": "text/x-python",
   "name": "python",
   "nbconvert_exporter": "python",
   "pygments_lexer": "ipython3",
   "version": "3.9.12"
  },
  "toc": {
   "base_numbering": 1,
   "nav_menu": {},
   "number_sections": true,
   "sideBar": true,
   "skip_h1_title": false,
   "title_cell": "Table of Contents",
   "title_sidebar": "Contents",
   "toc_cell": false,
   "toc_position": {},
   "toc_section_display": true,
   "toc_window_display": false
  },
  "varInspector": {
   "cols": {
    "lenName": 16,
    "lenType": 16,
    "lenVar": 40
   },
   "kernels_config": {
    "python": {
     "delete_cmd_postfix": "",
     "delete_cmd_prefix": "del ",
     "library": "var_list.py",
     "varRefreshCmd": "print(var_dic_list())"
    },
    "r": {
     "delete_cmd_postfix": ") ",
     "delete_cmd_prefix": "rm(",
     "library": "var_list.r",
     "varRefreshCmd": "cat(var_dic_list()) "
    }
   },
   "types_to_exclude": [
    "module",
    "function",
    "builtin_function_or_method",
    "instance",
    "_Feature"
   ],
   "window_display": false
  }
 },
 "nbformat": 4,
 "nbformat_minor": 5
}
